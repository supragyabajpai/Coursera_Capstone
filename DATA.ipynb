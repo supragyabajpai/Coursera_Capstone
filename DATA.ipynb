{
    "cells": [
        {
            "cell_type": "code",
            "execution_count": 2,
            "metadata": {},
            "outputs": [
                {
                    "data": {
                        "text/html": "<div>\n<style scoped>\n    .dataframe tbody tr th:only-of-type {\n        vertical-align: middle;\n    }\n\n    .dataframe tbody tr th {\n        vertical-align: top;\n    }\n\n    .dataframe thead th {\n        text-align: right;\n    }\n</style>\n<table border=\"1\" class=\"dataframe\">\n  <thead>\n    <tr style=\"text-align: right;\">\n      <th></th>\n      <th>IN</th>\n      <th>744301</th>\n      <th>Kakana</th>\n      <th>Andaman &amp; Nicobar Islands</th>\n      <th>01</th>\n      <th>Nicobar</th>\n      <th>638</th>\n      <th>Carnicobar</th>\n      <th>Unnamed: 8</th>\n      <th>9.1167</th>\n      <th>92.8</th>\n      <th>4</th>\n    </tr>\n  </thead>\n  <tbody>\n    <tr>\n      <th>0</th>\n      <td>IN</td>\n      <td>744301</td>\n      <td>Sawai</td>\n      <td>Andaman &amp; Nicobar Islands</td>\n      <td>1</td>\n      <td>Nicobar</td>\n      <td>638.0</td>\n      <td>Carnicobar</td>\n      <td>NaN</td>\n      <td>7.5166</td>\n      <td>93.6031</td>\n      <td>4</td>\n    </tr>\n    <tr>\n      <th>1</th>\n      <td>IN</td>\n      <td>744301</td>\n      <td>Lapathy</td>\n      <td>Andaman &amp; Nicobar Islands</td>\n      <td>1</td>\n      <td>Nicobar</td>\n      <td>638.0</td>\n      <td>Carnicobar</td>\n      <td>NaN</td>\n      <td>9.1833</td>\n      <td>92.7667</td>\n      <td>3</td>\n    </tr>\n    <tr>\n      <th>2</th>\n      <td>IN</td>\n      <td>744301</td>\n      <td>Mus</td>\n      <td>Andaman &amp; Nicobar Islands</td>\n      <td>1</td>\n      <td>Nicobar</td>\n      <td>638.0</td>\n      <td>Carnicobar</td>\n      <td>NaN</td>\n      <td>9.2333</td>\n      <td>92.7833</td>\n      <td>4</td>\n    </tr>\n    <tr>\n      <th>3</th>\n      <td>IN</td>\n      <td>744301</td>\n      <td>Carnicobar</td>\n      <td>Andaman &amp; Nicobar Islands</td>\n      <td>1</td>\n      <td>Nicobar</td>\n      <td>638.0</td>\n      <td>Carnicobar</td>\n      <td>NaN</td>\n      <td>9.1833</td>\n      <td>92.7667</td>\n      <td>3</td>\n    </tr>\n    <tr>\n      <th>4</th>\n      <td>IN</td>\n      <td>744302</td>\n      <td>Campbelbay</td>\n      <td>Andaman &amp; Nicobar Islands</td>\n      <td>1</td>\n      <td>Nicobar</td>\n      <td>638.0</td>\n      <td>Nancowrie</td>\n      <td>NaN</td>\n      <td>9.1833</td>\n      <td>92.7667</td>\n      <td>1</td>\n    </tr>\n  </tbody>\n</table>\n</div>",
                        "text/plain": "   IN  744301      Kakana  Andaman & Nicobar Islands  01  Nicobar    638  \\\n0  IN  744301       Sawai  Andaman & Nicobar Islands   1  Nicobar  638.0   \n1  IN  744301     Lapathy  Andaman & Nicobar Islands   1  Nicobar  638.0   \n2  IN  744301         Mus  Andaman & Nicobar Islands   1  Nicobar  638.0   \n3  IN  744301  Carnicobar  Andaman & Nicobar Islands   1  Nicobar  638.0   \n4  IN  744302  Campbelbay  Andaman & Nicobar Islands   1  Nicobar  638.0   \n\n   Carnicobar  Unnamed: 8  9.1167     92.8  4  \n0  Carnicobar         NaN  7.5166  93.6031  4  \n1  Carnicobar         NaN  9.1833  92.7667  3  \n2  Carnicobar         NaN  9.2333  92.7833  4  \n3  Carnicobar         NaN  9.1833  92.7667  3  \n4   Nancowrie         NaN  9.1833  92.7667  1  "
                    },
                    "execution_count": 2,
                    "metadata": {},
                    "output_type": "execute_result"
                }
            ],
            "source": "# The code was removed by Watson Studio for sharing."
        },
        {
            "cell_type": "code",
            "execution_count": 3,
            "metadata": {},
            "outputs": [
                {
                    "ename": "KeyError",
                    "evalue": "\"None of [Index(['Postal Code', 'lat', 'lng'], dtype='object')] are in the [columns]\"",
                    "output_type": "error",
                    "traceback": [
                        "\u001b[0;31m---------------------------------------------------------------------------\u001b[0m",
                        "\u001b[0;31mKeyError\u001b[0m                                  Traceback (most recent call last)",
                        "\u001b[0;32m<ipython-input-3-dd1cdb405192>\u001b[0m in \u001b[0;36m<module>\u001b[0;34m\u001b[0m\n\u001b[0;32m----> 1\u001b[0;31m \u001b[0mba\u001b[0m\u001b[0;34m=\u001b[0m\u001b[0mdf_data_1\u001b[0m\u001b[0;34m[\u001b[0m\u001b[0;34m[\u001b[0m\u001b[0;34m'Postal Code'\u001b[0m\u001b[0;34m,\u001b[0m\u001b[0;34m'lat'\u001b[0m\u001b[0;34m,\u001b[0m\u001b[0;34m'lng'\u001b[0m\u001b[0;34m]\u001b[0m\u001b[0;34m]\u001b[0m\u001b[0;34m\u001b[0m\u001b[0;34m\u001b[0m\u001b[0m\n\u001b[0m",
                        "\u001b[0;32m/opt/conda/envs/Python36/lib/python3.6/site-packages/pandas/core/frame.py\u001b[0m in \u001b[0;36m__getitem__\u001b[0;34m(self, key)\u001b[0m\n\u001b[1;32m   2932\u001b[0m                 \u001b[0mkey\u001b[0m \u001b[0;34m=\u001b[0m \u001b[0mlist\u001b[0m\u001b[0;34m(\u001b[0m\u001b[0mkey\u001b[0m\u001b[0;34m)\u001b[0m\u001b[0;34m\u001b[0m\u001b[0;34m\u001b[0m\u001b[0m\n\u001b[1;32m   2933\u001b[0m             indexer = self.loc._convert_to_indexer(key, axis=1,\n\u001b[0;32m-> 2934\u001b[0;31m                                                    raise_missing=True)\n\u001b[0m\u001b[1;32m   2935\u001b[0m \u001b[0;34m\u001b[0m\u001b[0m\n\u001b[1;32m   2936\u001b[0m         \u001b[0;31m# take() does not accept boolean indexers\u001b[0m\u001b[0;34m\u001b[0m\u001b[0;34m\u001b[0m\u001b[0;34m\u001b[0m\u001b[0m\n",
                        "\u001b[0;32m/opt/conda/envs/Python36/lib/python3.6/site-packages/pandas/core/indexing.py\u001b[0m in \u001b[0;36m_convert_to_indexer\u001b[0;34m(self, obj, axis, is_setter, raise_missing)\u001b[0m\n\u001b[1;32m   1352\u001b[0m                 kwargs = {'raise_missing': True if is_setter else\n\u001b[1;32m   1353\u001b[0m                           raise_missing}\n\u001b[0;32m-> 1354\u001b[0;31m                 \u001b[0;32mreturn\u001b[0m \u001b[0mself\u001b[0m\u001b[0;34m.\u001b[0m\u001b[0m_get_listlike_indexer\u001b[0m\u001b[0;34m(\u001b[0m\u001b[0mobj\u001b[0m\u001b[0;34m,\u001b[0m \u001b[0maxis\u001b[0m\u001b[0;34m,\u001b[0m \u001b[0;34m**\u001b[0m\u001b[0mkwargs\u001b[0m\u001b[0;34m)\u001b[0m\u001b[0;34m[\u001b[0m\u001b[0;36m1\u001b[0m\u001b[0;34m]\u001b[0m\u001b[0;34m\u001b[0m\u001b[0;34m\u001b[0m\u001b[0m\n\u001b[0m\u001b[1;32m   1355\u001b[0m         \u001b[0;32melse\u001b[0m\u001b[0;34m:\u001b[0m\u001b[0;34m\u001b[0m\u001b[0;34m\u001b[0m\u001b[0m\n\u001b[1;32m   1356\u001b[0m             \u001b[0;32mtry\u001b[0m\u001b[0;34m:\u001b[0m\u001b[0;34m\u001b[0m\u001b[0;34m\u001b[0m\u001b[0m\n",
                        "\u001b[0;32m/opt/conda/envs/Python36/lib/python3.6/site-packages/pandas/core/indexing.py\u001b[0m in \u001b[0;36m_get_listlike_indexer\u001b[0;34m(self, key, axis, raise_missing)\u001b[0m\n\u001b[1;32m   1159\u001b[0m         self._validate_read_indexer(keyarr, indexer,\n\u001b[1;32m   1160\u001b[0m                                     \u001b[0mo\u001b[0m\u001b[0;34m.\u001b[0m\u001b[0m_get_axis_number\u001b[0m\u001b[0;34m(\u001b[0m\u001b[0maxis\u001b[0m\u001b[0;34m)\u001b[0m\u001b[0;34m,\u001b[0m\u001b[0;34m\u001b[0m\u001b[0;34m\u001b[0m\u001b[0m\n\u001b[0;32m-> 1161\u001b[0;31m                                     raise_missing=raise_missing)\n\u001b[0m\u001b[1;32m   1162\u001b[0m         \u001b[0;32mreturn\u001b[0m \u001b[0mkeyarr\u001b[0m\u001b[0;34m,\u001b[0m \u001b[0mindexer\u001b[0m\u001b[0;34m\u001b[0m\u001b[0;34m\u001b[0m\u001b[0m\n\u001b[1;32m   1163\u001b[0m \u001b[0;34m\u001b[0m\u001b[0m\n",
                        "\u001b[0;32m/opt/conda/envs/Python36/lib/python3.6/site-packages/pandas/core/indexing.py\u001b[0m in \u001b[0;36m_validate_read_indexer\u001b[0;34m(self, key, indexer, axis, raise_missing)\u001b[0m\n\u001b[1;32m   1244\u001b[0m                 raise KeyError(\n\u001b[1;32m   1245\u001b[0m                     u\"None of [{key}] are in the [{axis}]\".format(\n\u001b[0;32m-> 1246\u001b[0;31m                         key=key, axis=self.obj._get_axis_name(axis)))\n\u001b[0m\u001b[1;32m   1247\u001b[0m \u001b[0;34m\u001b[0m\u001b[0m\n\u001b[1;32m   1248\u001b[0m             \u001b[0;31m# We (temporarily) allow for some missing keys with .loc, except in\u001b[0m\u001b[0;34m\u001b[0m\u001b[0;34m\u001b[0m\u001b[0;34m\u001b[0m\u001b[0m\n",
                        "\u001b[0;31mKeyError\u001b[0m: \"None of [Index(['Postal Code', 'lat', 'lng'], dtype='object')] are in the [columns]\""
                    ]
                }
            ],
            "source": "ba=df_data_1[['Postal Code','lat','lng']]"
        },
        {
            "cell_type": "code",
            "execution_count": null,
            "metadata": {},
            "outputs": [],
            "source": ""
        }
    ],
    "metadata": {
        "kernelspec": {
            "display_name": "Python 3.6",
            "language": "python",
            "name": "python3"
        },
        "language_info": {
            "codemirror_mode": {
                "name": "ipython",
                "version": 3
            },
            "file_extension": ".py",
            "mimetype": "text/x-python",
            "name": "python",
            "nbconvert_exporter": "python",
            "pygments_lexer": "ipython3",
            "version": "3.6.9"
        }
    },
    "nbformat": 4,
    "nbformat_minor": 1
}