{
    "cells": [
        {
            "cell_type": "markdown",
            "metadata": {},
            "source": "## PROBLEM\n\n####  In this project we will be exploering diffrent venues of banglore and will find out the most suitable one for a tourist according to his requirements."
        },
        {
            "cell_type": "code",
            "execution_count": 4,
            "metadata": {},
            "outputs": [
                {
                    "data": {
                        "text/html": "<div>\n<style scoped>\n    .dataframe tbody tr th:only-of-type {\n        vertical-align: middle;\n    }\n\n    .dataframe tbody tr th {\n        vertical-align: top;\n    }\n\n    .dataframe thead th {\n        text-align: right;\n    }\n</style>\n<table border=\"1\" class=\"dataframe\">\n  <thead>\n    <tr style=\"text-align: right;\">\n      <th></th>\n      <th>IN</th>\n      <th>Postal Code</th>\n      <th>Kakana</th>\n      <th>Andaman &amp; Nicobar Islands</th>\n      <th>01</th>\n      <th>Nicobar</th>\n      <th>638</th>\n      <th>Carnicobar</th>\n      <th>Unnamed: 8</th>\n      <th>lat</th>\n      <th>lng</th>\n      <th>4</th>\n    </tr>\n  </thead>\n  <tbody>\n    <tr>\n      <th>0</th>\n      <td>IN</td>\n      <td>744301</td>\n      <td>Sawai</td>\n      <td>Andaman &amp; Nicobar Islands</td>\n      <td>1</td>\n      <td>Nicobar</td>\n      <td>638.0</td>\n      <td>Carnicobar</td>\n      <td>NaN</td>\n      <td>7.5166</td>\n      <td>93.6031</td>\n      <td>4</td>\n    </tr>\n    <tr>\n      <th>1</th>\n      <td>IN</td>\n      <td>744301</td>\n      <td>Lapathy</td>\n      <td>Andaman &amp; Nicobar Islands</td>\n      <td>1</td>\n      <td>Nicobar</td>\n      <td>638.0</td>\n      <td>Carnicobar</td>\n      <td>NaN</td>\n      <td>9.1833</td>\n      <td>92.7667</td>\n      <td>3</td>\n    </tr>\n    <tr>\n      <th>2</th>\n      <td>IN</td>\n      <td>744301</td>\n      <td>Mus</td>\n      <td>Andaman &amp; Nicobar Islands</td>\n      <td>1</td>\n      <td>Nicobar</td>\n      <td>638.0</td>\n      <td>Carnicobar</td>\n      <td>NaN</td>\n      <td>9.2333</td>\n      <td>92.7833</td>\n      <td>4</td>\n    </tr>\n    <tr>\n      <th>3</th>\n      <td>IN</td>\n      <td>744301</td>\n      <td>Carnicobar</td>\n      <td>Andaman &amp; Nicobar Islands</td>\n      <td>1</td>\n      <td>Nicobar</td>\n      <td>638.0</td>\n      <td>Carnicobar</td>\n      <td>NaN</td>\n      <td>9.1833</td>\n      <td>92.7667</td>\n      <td>3</td>\n    </tr>\n    <tr>\n      <th>4</th>\n      <td>IN</td>\n      <td>744302</td>\n      <td>Campbelbay</td>\n      <td>Andaman &amp; Nicobar Islands</td>\n      <td>1</td>\n      <td>Nicobar</td>\n      <td>638.0</td>\n      <td>Nancowrie</td>\n      <td>NaN</td>\n      <td>9.1833</td>\n      <td>92.7667</td>\n      <td>1</td>\n    </tr>\n  </tbody>\n</table>\n</div>",
                        "text/plain": "   IN  Postal Code      Kakana  Andaman & Nicobar Islands  01  Nicobar    638  \\\n0  IN       744301       Sawai  Andaman & Nicobar Islands   1  Nicobar  638.0   \n1  IN       744301     Lapathy  Andaman & Nicobar Islands   1  Nicobar  638.0   \n2  IN       744301         Mus  Andaman & Nicobar Islands   1  Nicobar  638.0   \n3  IN       744301  Carnicobar  Andaman & Nicobar Islands   1  Nicobar  638.0   \n4  IN       744302  Campbelbay  Andaman & Nicobar Islands   1  Nicobar  638.0   \n\n   Carnicobar  Unnamed: 8     lat      lng  4  \n0  Carnicobar         NaN  7.5166  93.6031  4  \n1  Carnicobar         NaN  9.1833  92.7667  3  \n2  Carnicobar         NaN  9.2333  92.7833  4  \n3  Carnicobar         NaN  9.1833  92.7667  3  \n4   Nancowrie         NaN  9.1833  92.7667  1  "
                    },
                    "execution_count": 4,
                    "metadata": {},
                    "output_type": "execute_result"
                }
            ],
            "source": "import types\nimport pandas as pd\nfrom botocore.client import Config\nimport ibm_boto3\n\ndef __iter__(self): return 0\nbody = client_b2f33c8afd8245bb8aa61c7757278cc0.get_object(Bucket='capstoneproject-donotdelete-pr-ba4ifexswrkhiy',Key='Untitled spreadsheet - IN.csv')['Body']\n# add missing __iter__ method, so pandas accepts body as file-like object\nif not hasattr(body, \"__iter__\"): body.__iter__ = types.MethodType( __iter__, body )\n\n\ndf_data_1 = pd.read_csv(body)\ndf_data_1.rename(columns={'744301': 'Postal Code'}, inplace=True)\ndf_data_1.rename(columns={'9.1167': 'lat'}, inplace=True)\ndf_data_1.rename(columns={'92.8': 'lng'}, inplace=True)\ndf_data_1.head()"
        },
        {
            "cell_type": "markdown",
            "metadata": {},
            "source": "#### We used a csv file containing all the postal codes above and scrapped a website below for latitudes and longitude for the same."
        },
        {
            "cell_type": "code",
            "execution_count": 6,
            "metadata": {},
            "outputs": [],
            "source": "ba=df_data_1[['Postal Code','lat','lng']]"
        },
        {
            "cell_type": "code",
            "execution_count": 7,
            "metadata": {},
            "outputs": [
                {
                    "name": "stderr",
                    "output_type": "stream",
                    "text": "/opt/conda/envs/Python36/lib/python3.6/site-packages/ipykernel/__main__.py:2: SettingWithCopyWarning: \nA value is trying to be set on a copy of a slice from a DataFrame\n\nSee the caveats in the documentation: http://pandas.pydata.org/pandas-docs/stable/indexing.html#indexing-view-versus-copy\n  from ipykernel import kernelapp as app\n"
                },
                {
                    "data": {
                        "text/plain": "(1877, 3)"
                    },
                    "execution_count": 7,
                    "metadata": {},
                    "output_type": "execute_result"
                }
            ],
            "source": "ba.drop_duplicates(subset =\"Postal Code\", \n                     keep = False, inplace = True)\nba.shape"
        },
        {
            "cell_type": "code",
            "execution_count": 8,
            "metadata": {},
            "outputs": [],
            "source": "import urllib.request\nurl = \"https://www.indiatvnews.com/pincode/karnataka/bangalore/bangalore-city\"\npage = urllib.request.urlopen(url)\nfrom bs4 import BeautifulSoup\nsoup = BeautifulSoup(page, \"lxml\")\n#print(soup.prettify())"
        },
        {
            "cell_type": "code",
            "execution_count": 9,
            "metadata": {},
            "outputs": [],
            "source": "all_tables=soup.find(\"div\", attrs={\"class\": \"lhs mb30\"})\nright_table=all_tables.find(\"table\", attrs={\"class\": \"alt\"})\nlst=[]\nfor row in right_table.findAll('tr'):\n    cells=row.findAll('td')\n    if len(cells)==5:\n        lst.append([cells[0].text.rstrip(),cells[1].text.rstrip(),cells[2].text.rstrip(),cells[3].text.rstrip(),cells[4].text.rstrip()])"
        },
        {
            "cell_type": "code",
            "execution_count": 10,
            "metadata": {},
            "outputs": [],
            "source": "import pandas as pd\ncols = ['Neighborhood', 'Div', 'City', 'State', 'Postal Code']\ndf = pd.DataFrame(lst, columns=cols)\ndf = df.drop(['City','State','Div'],axis=1)\ndf=df.astype({'Postal Code': 'int64'})\nd = pd.merge(df,ba, on=\"Postal Code\",how='inner')\nd.to_csv('banglore_data.csv')"
        },
        {
            "cell_type": "code",
            "execution_count": 12,
            "metadata": {},
            "outputs": [
                {
                    "data": {
                        "text/html": "<div>\n<style scoped>\n    .dataframe tbody tr th:only-of-type {\n        vertical-align: middle;\n    }\n\n    .dataframe tbody tr th {\n        vertical-align: top;\n    }\n\n    .dataframe thead th {\n        text-align: right;\n    }\n</style>\n<table border=\"1\" class=\"dataframe\">\n  <thead>\n    <tr style=\"text-align: right;\">\n      <th></th>\n      <th>Neighborhood</th>\n      <th>Postal Code</th>\n      <th>lat</th>\n      <th>lng</th>\n    </tr>\n  </thead>\n  <tbody>\n    <tr>\n      <th>0</th>\n      <td>Bangalore International Airport</td>\n      <td>560300</td>\n      <td>13.0082</td>\n      <td>77.5293</td>\n    </tr>\n    <tr>\n      <th>1</th>\n      <td>Benson Town</td>\n      <td>560046</td>\n      <td>13.2257</td>\n      <td>77.5750</td>\n    </tr>\n    <tr>\n      <th>2</th>\n      <td>C.V.Raman Nagar</td>\n      <td>560093</td>\n      <td>13.1077</td>\n      <td>77.5810</td>\n    </tr>\n    <tr>\n      <th>3</th>\n      <td>Domlur</td>\n      <td>560071</td>\n      <td>13.2257</td>\n      <td>77.5750</td>\n    </tr>\n    <tr>\n      <th>4</th>\n      <td>Fraser Town</td>\n      <td>560005</td>\n      <td>12.9910</td>\n      <td>77.5843</td>\n    </tr>\n    <tr>\n      <th>5</th>\n      <td>G.K.V.K.</td>\n      <td>560065</td>\n      <td>12.9881</td>\n      <td>77.5052</td>\n    </tr>\n    <tr>\n      <th>6</th>\n      <td>H.K.P. Road</td>\n      <td>560051</td>\n      <td>12.9979</td>\n      <td>77.5861</td>\n    </tr>\n    <tr>\n      <th>7</th>\n      <td>Indiranagar Bangalore</td>\n      <td>560038</td>\n      <td>13.2257</td>\n      <td>77.5750</td>\n    </tr>\n    <tr>\n      <th>8</th>\n      <td>Maruthi Sevanagar</td>\n      <td>560033</td>\n      <td>13.0108</td>\n      <td>77.7494</td>\n    </tr>\n    <tr>\n      <th>9</th>\n      <td>Sadashivanagar</td>\n      <td>560080</td>\n      <td>13.2257</td>\n      <td>77.5750</td>\n    </tr>\n  </tbody>\n</table>\n</div>",
                        "text/plain": "                      Neighborhood  Postal Code      lat      lng\n0  Bangalore International Airport       560300  13.0082  77.5293\n1                      Benson Town       560046  13.2257  77.5750\n2                  C.V.Raman Nagar       560093  13.1077  77.5810\n3                           Domlur       560071  13.2257  77.5750\n4                      Fraser Town       560005  12.9910  77.5843\n5                         G.K.V.K.       560065  12.9881  77.5052\n6                      H.K.P. Road       560051  12.9979  77.5861\n7            Indiranagar Bangalore       560038  13.2257  77.5750\n8                Maruthi Sevanagar       560033  13.0108  77.7494\n9                   Sadashivanagar       560080  13.2257  77.5750"
                    },
                    "execution_count": 12,
                    "metadata": {},
                    "output_type": "execute_result"
                }
            ],
            "source": "df = pd.read_csv('banglore_data.csv', index_col=0)\ndf.head(10)"
        },
        {
            "cell_type": "code",
            "execution_count": null,
            "metadata": {},
            "outputs": [],
            "source": ""
        }
    ],
    "metadata": {
        "kernelspec": {
            "display_name": "Python 3.6",
            "language": "python",
            "name": "python3"
        },
        "language_info": {
            "codemirror_mode": {
                "name": "ipython",
                "version": 3
            },
            "file_extension": ".py",
            "mimetype": "text/x-python",
            "name": "python",
            "nbconvert_exporter": "python",
            "pygments_lexer": "ipython3",
            "version": "3.6.9"
        }
    },
    "nbformat": 4,
    "nbformat_minor": 1
}