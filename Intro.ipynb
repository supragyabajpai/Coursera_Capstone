{
    "cells": [
        {
            "cell_type": "markdown",
            "metadata": {
                "collapsed": true
            },
            "source": "#                                                   CAPSTONE PROJECT"
        },
        {
            "cell_type": "markdown",
            "metadata": {},
            "source": "## --------------------------------- "
        },
        {
            "cell_type": "markdown",
            "metadata": {},
            "source": "## PROBLEM STATEMENT"
        },
        {
            "cell_type": "markdown",
            "metadata": {},
            "source": "In this project we will be exploering diffrent venues of banglore and will find out the most suitable one for a tourist according to his requirements."
        },
        {
            "cell_type": "markdown",
            "metadata": {},
            "source": "## DATA "
        },
        {
            "cell_type": "markdown",
            "metadata": {},
            "source": "for this we have scrapped out data of all the area's of banglore with there postal codes so that we can use them for the nearby location of the explorer."
        },
        {
            "cell_type": "markdown",
            "metadata": {},
            "source": "## Target"
        },
        {
            "cell_type": "markdown",
            "metadata": {},
            "source": "the target of this project is someone who is new in banglore and wants to expolre diffrent venues near his location"
        }
    ],
    "metadata": {
        "kernelspec": {
            "display_name": "Python 3.6",
            "language": "python",
            "name": "python3"
        },
        "language_info": {
            "codemirror_mode": {
                "name": "ipython",
                "version": 3
            },
            "file_extension": ".py",
            "mimetype": "text/x-python",
            "name": "python",
            "nbconvert_exporter": "python",
            "pygments_lexer": "ipython3",
            "version": "3.6.9"
        }
    },
    "nbformat": 4,
    "nbformat_minor": 1
}